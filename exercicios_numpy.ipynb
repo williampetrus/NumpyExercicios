{
 "cells": [
  {
   "cell_type": "markdown",
   "metadata": {
    "id": "QDc0r17Zp36j"
   },
   "source": [
    "Numpy\n",
    "1. Utilizando a biblioteca numpy siga as instruções abaixo:\n",
    "   1. Crie um array 6x6 preenchido com zero\n",
    "   1. Preencha o centro desse array com um array 4x4 preenchido com uns\n",
    "   1. Preencha o centro desse array com um array 2x2 preenchido com dois\n",
    "   1. Gere um segundo array 6x6 com números inteiros aleatórios entre 0 e 2.\n",
    "   1. Subtraia o primeiro array pelo segundo"
   ]
  },
  {
   "cell_type": "markdown",
   "metadata": {
    "id": "jQewSID-wGjA"
   },
   "source": [
    "1."
   ]
  },
  {
   "cell_type": "markdown",
   "metadata": {
    "id": "X2BE_IHGrZSW"
   },
   "source": [
    "1.a"
   ]
  },
  {
   "cell_type": "code",
   "execution_count": null,
   "metadata": {
    "id": "92J8fjfUqMvs"
   },
   "outputs": [],
   "source": [
    "!pip install numpy"
   ]
  },
  {
   "cell_type": "code",
   "execution_count": null,
   "metadata": {
    "colab": {
     "base_uri": "https://localhost:8080/"
    },
    "id": "hT0lZhqWpynk",
    "outputId": "f825a956-1b27-4e66-d2b0-990fc1940c2d"
   },
   "outputs": [],
   "source": []
  },
  {
   "cell_type": "code",
   "execution_count": null,
   "metadata": {
    "colab": {
     "base_uri": "https://localhost:8080/"
    },
    "id": "GqdfVfmquWMi",
    "outputId": "0ede8eed-789c-4bca-881c-07e4993b04ad"
   },
   "outputs": [],
   "source": [
    "array1.ndim"
   ]
  },
  {
   "cell_type": "code",
   "execution_count": null,
   "metadata": {
    "colab": {
     "base_uri": "https://localhost:8080/"
    },
    "id": "71OPJleNuWdB",
    "outputId": "e09c73c2-876e-451e-9834-270a12fe9a69"
   },
   "outputs": [],
   "source": [
    "array1.size"
   ]
  },
  {
   "cell_type": "code",
   "execution_count": null,
   "metadata": {
    "colab": {
     "base_uri": "https://localhost:8080/"
    },
    "id": "bmp3_DXBqGy0",
    "outputId": "5444e320-9ae0-4afd-d387-d0260459ab01"
   },
   "outputs": [],
   "source": [
    "array1.shape"
   ]
  },
  {
   "cell_type": "code",
   "execution_count": null,
   "metadata": {
    "colab": {
     "base_uri": "https://localhost:8080/"
    },
    "id": "QorcAtpQqZwA",
    "outputId": "7c6f1247-eb6a-4117-8f83-db4a1607db08"
   },
   "outputs": [],
   "source": [
    "array1.dtype"
   ]
  },
  {
   "cell_type": "markdown",
   "metadata": {
    "id": "ix6AOKmXrXtm"
   },
   "source": [
    "1.b"
   ]
  },
  {
   "cell_type": "code",
   "execution_count": null,
   "metadata": {
    "colab": {
     "base_uri": "https://localhost:8080/"
    },
    "id": "jLGhT6JRqdPm",
    "outputId": "b9d9b2d2-d14c-4fd9-f9bd-ef1ad15fd870"
   },
   "outputs": [],
   "source": [
    "# array[1]\n",
    "# array1[1, 1]\n",
    "# array1[1:4]\n",
    "# array1[1:5]\n",
    "# array1[1:-1]\n",
    "# array1[1:-1, 1:-1]\n",
    "# help(np.ones)\n",
    "array1[1:-1, 1:-1] = np.ones(shape=(4,4))\n",
    "array1\n",
    "# não dá pra fazer assim com listas sem utilizar for"
   ]
  },
  {
   "cell_type": "markdown",
   "metadata": {
    "id": "r1MDjXB0tyl0"
   },
   "source": [
    "1.c"
   ]
  },
  {
   "cell_type": "code",
   "execution_count": null,
   "metadata": {
    "colab": {
     "base_uri": "https://localhost:8080/"
    },
    "id": "ZRS0zKVKqolQ",
    "outputId": "f37bff97-b236-4467-fdb1-4facb69eb476"
   },
   "outputs": [],
   "source": [
    "# np.array([\n",
    "#   [2,2],\n",
    "#   [2,2]\n",
    "# ])\n",
    "# np.zeros(shape=(2,2)) + 2\n",
    "# np.ones(shape=(2,2)) * 2\n",
    "# Não dá pra fazer assim com listas\n",
    "# help(np.full)\n",
    "array1[2:-2, 2:-2] = np.full(shape=(2,2), fill_value=2)\n",
    "array1"
   ]
  },
  {
   "cell_type": "markdown",
   "metadata": {
    "id": "T9ZvCfVat14D"
   },
   "source": [
    "1.d"
   ]
  },
  {
   "cell_type": "code",
   "execution_count": null,
   "metadata": {
    "colab": {
     "base_uri": "https://localhost:8080/"
    },
    "id": "8k6PIYaxsF0m",
    "outputId": "af6ab656-5e98-48f0-99b4-4f5d5faf7e25"
   },
   "outputs": [],
   "source": [
    "# numpy random\n",
    "# https://numpy.org/doc/1.16/reference/routines.random.html\n",
    "# help(np.random.randint)\n",
    "# np.random.randint(low=0, high=3, size=(6,6))\n",
    "# numpy set seed\n",
    "# https://docs.scipy.org/doc/numpy-1.15.1/reference/generated/numpy.random.seed.html\n",
    "np.random.seed(0)\n",
    "array2 = np.random.randint(low=0, high=3, size=(6,6))\n",
    "array2"
   ]
  },
  {
   "cell_type": "markdown",
   "metadata": {
    "id": "INwKMziov_t6"
   },
   "source": [
    "1.e"
   ]
  },
  {
   "cell_type": "code",
   "execution_count": null,
   "metadata": {
    "colab": {
     "base_uri": "https://localhost:8080/"
    },
    "id": "1_YJEwdQtY_9",
    "outputId": "859359ce-fdfb-4726-e6cb-4e2cad564920"
   },
   "outputs": [],
   "source": [
    "array1-array2"
   ]
  },
  {
   "cell_type": "markdown",
   "metadata": {
    "id": "xnF6dzzfwQOy"
   },
   "source": [
    "\n",
    "2. Crie um array de duas dimensões, no formato 9x9, com números de 0 a 80 ordenados de modo crescente e selecione:\n",
    "   1. Os números ímpares\n",
    "   1. Os números pares\n",
    "   1. Os múltiplos de sete\n",
    "   1. Os múltiplos de 10\n",
    "   1. Os números 32,33,42,43"
   ]
  },
  {
   "cell_type": "markdown",
   "metadata": {
    "id": "AvG-i579wE8f"
   },
   "source": [
    "2"
   ]
  },
  {
   "cell_type": "markdown",
   "metadata": {
    "id": "gyfCoOe3xzDk"
   },
   "source": [
    "2.a e b"
   ]
  },
  {
   "cell_type": "code",
   "execution_count": null,
   "metadata": {
    "colab": {
     "base_uri": "https://localhost:8080/"
    },
    "id": "Moq7jTguwBkT",
    "outputId": "48f5ea5d-cacd-42e0-dbac-2fffebc39fcb"
   },
   "outputs": [],
   "source": [
    "# help(np.arange)\n",
    "# np.arange(start=0, stop=81, step=1)\n",
    "array = np.arange(start=0, stop=81, step=1).reshape(9,9)\n",
    "# np.arange(start=0, stop=81, step=1).reshape(9,-1)\n",
    "array"
   ]
  },
  {
   "cell_type": "code",
   "execution_count": null,
   "metadata": {
    "colab": {
     "base_uri": "https://localhost:8080/"
    },
    "id": "L9WoPQ27xElU",
    "outputId": "0c58b622-6da4-43c8-d889-f3ca291f66fd"
   },
   "outputs": [],
   "source": [
    "# array % 2\n",
    "# array % 2 == 1\n",
    "mask_impar = array % 2 == 1 # Mask\n",
    "# mask_impar\n",
    "array[mask_impar]"
   ]
  },
  {
   "cell_type": "markdown",
   "metadata": {
    "id": "_EqYfn6CyC-Z"
   },
   "source": [
    "2.b"
   ]
  },
  {
   "cell_type": "code",
   "execution_count": null,
   "metadata": {
    "colab": {
     "base_uri": "https://localhost:8080/"
    },
    "id": "NxqMif0VyBTV",
    "outputId": "fc185296-ce91-4bd5-f12d-7fbb4af9092b"
   },
   "outputs": [],
   "source": [
    "# array[not mask_impar]\n",
    "# array[~mask_impar]\n",
    "# array % 2 == 0\n",
    "mask_par = array % 2 == 0 # Mask\n",
    "array[mask_par]"
   ]
  },
  {
   "cell_type": "markdown",
   "metadata": {
    "id": "giqejT30zLmf"
   },
   "source": [
    "2.c"
   ]
  },
  {
   "cell_type": "code",
   "execution_count": null,
   "metadata": {
    "colab": {
     "base_uri": "https://localhost:8080/"
    },
    "id": "jT0fDnQAzK8x",
    "outputId": "5f384684-0354-40dd-81ac-b89e4a345226"
   },
   "outputs": [],
   "source": [
    "array\n",
    "# array % 7\n",
    "# array % 7 == 0\n",
    "array[array % 7 == 0]\n",
    "# multi_sete = [0, 7, 14, 21, 28, 35, 42, 49, 56, 63, 70, 77]\n",
    "# numpy check array values in list\n",
    "# https://numpy.org/doc/stable/reference/generated/numpy.isin.html\n",
    "# mask_sete = np.isin(array, multi_sete)\n",
    "# array[mask_sete]\n",
    "# list(range(0, 80, 7))\n",
    "# array[np.isin(array, range(0, 80, 7))]"
   ]
  },
  {
   "cell_type": "markdown",
   "metadata": {
    "id": "s0LGRFE-06uw"
   },
   "source": [
    "2.d"
   ]
  },
  {
   "cell_type": "code",
   "execution_count": null,
   "metadata": {
    "colab": {
     "base_uri": "https://localhost:8080/"
    },
    "id": "Wx86uMmC0_Mu",
    "outputId": "e8be0884-af13-42ad-ee6b-de53ef2d40e4"
   },
   "outputs": [],
   "source": [
    "# numpy get matrix diagonal\n",
    "# https://numpy.org/doc/stable/reference/generated/numpy.diagonal.html\n",
    "# array.diagonal()\n",
    "# np.diag(array)\n",
    "# array[array %10 == 0]\n",
    "# array.shape\n",
    "# for i in range(array.shape[0]):\n",
    "#   print(array[i,i])\n",
    "# array.ravel()[::10]"
   ]
  },
  {
   "cell_type": "markdown",
   "metadata": {
    "id": "xO6QciGA2rJ8"
   },
   "source": [
    "2.e"
   ]
  },
  {
   "cell_type": "code",
   "execution_count": null,
   "metadata": {
    "colab": {
     "base_uri": "https://localhost:8080/"
    },
    "id": "Zf3fePHF3cpV",
    "outputId": "26b4f509-1896-4f7b-f190-fe3fd6e64121"
   },
   "outputs": [],
   "source": [
    "array"
   ]
  },
  {
   "cell_type": "code",
   "execution_count": null,
   "metadata": {
    "colab": {
     "base_uri": "https://localhost:8080/"
    },
    "id": "ZbxHky5o2sNS",
    "outputId": "17f60d24-f81e-449a-e07f-86aeeb390533"
   },
   "outputs": [],
   "source": [
    "# array.ravel()[[32,33,42,43]]\n",
    "# array[np.isin(array, [32,33,42,43])]\n",
    "array[[3,3,4,4],[5,6,6,7]]"
   ]
  },
  {
   "cell_type": "markdown",
   "metadata": {
    "id": "7IbwVb7mwTPq"
   },
   "source": [
    "\n",
    "3. Crie um array com três dimensões, onde a primeira dimensão são os dias da semana (seg a dom), a segunda dimensão são as semanas do mês (considere apenas 4 para todos os meses), e a terceira são os meses do ano (Jan a dezembro).\n",
    "   1. Marque os finais de semana com a letra W\n",
    "   1. Marque o começo do mês com a letra S\n",
    "   1. Marque o final do mês com a letra E\n",
    "   1. Marque os demais dias com a letra D\n",
    "   1. Marque os feriados nacionais com a letra F\n",
    "      - 01/01 - Ano novo\n",
    "      - 15/04 - Paixão de Cristo\n",
    "      - 21/04 - Tiradentes\n",
    "      - 01/05 - Dia do Trabalho\n",
    "      - 07/09 - Independência do Brasil\n",
    "      - 12/10 - Nossa Senhora Aparecida\n",
    "      - 02/11 - Finados\n",
    "      - 15/11 - Proclamação da República\n",
    "      - 25/12 - Natal"
   ]
  },
  {
   "cell_type": "code",
   "execution_count": null,
   "metadata": {
    "colab": {
     "base_uri": "https://localhost:8080/"
    },
    "id": "O2cUNlvgwUCj",
    "outputId": "60799329-c700-48e4-930b-56934462beaf"
   },
   "outputs": [],
   "source": [
    "# numpy repeat array\n",
    "# https://numpy.org/doc/stable/reference/generated/numpy.tile.html\n",
    "month = np.arange(1,29).reshape(4,7)\n",
    "# month\n",
    "# np.tile(month, (12,1,1)).shape\n",
    "calendar = np.tile(month, (12,1,1))\n",
    "calendar"
   ]
  },
  {
   "cell_type": "markdown",
   "metadata": {
    "id": "9-WEcxcG7bfg"
   },
   "source": [
    "3.a"
   ]
  },
  {
   "cell_type": "code",
   "execution_count": null,
   "metadata": {
    "colab": {
     "base_uri": "https://localhost:8080/"
    },
    "id": "5_PoqXxE4H8v",
    "outputId": "8fa60c8c-dcdd-46b4-e304-f310f403d2a9"
   },
   "outputs": [],
   "source": [
    "# calendar[:,:, 5:]\n",
    "# calendar[:,:, 5:] = 'W'\n",
    "calendar = calendar.astype(str)\n",
    "calendar[:,:, 5:] = 'W'\n",
    "calendar\n",
    "# Vai ter que utilizar muito for pra fazer isso em lista"
   ]
  },
  {
   "cell_type": "markdown",
   "metadata": {
    "id": "s07hIS6g77mE"
   },
   "source": [
    "3.b"
   ]
  },
  {
   "cell_type": "code",
   "execution_count": null,
   "metadata": {
    "colab": {
     "base_uri": "https://localhost:8080/"
    },
    "id": "jIZ5jlv57h0k",
    "outputId": "7883c4e8-c7f3-4de8-8ede-7efdb1ea5382"
   },
   "outputs": [],
   "source": [
    "calendar[:, 0, 0]\n",
    "calendar[:, 0, 0] = 'S'\n",
    "calendar"
   ]
  },
  {
   "cell_type": "markdown",
   "metadata": {
    "id": "62AdhKjY8Lip"
   },
   "source": [
    "3.c"
   ]
  },
  {
   "cell_type": "code",
   "execution_count": null,
   "metadata": {
    "colab": {
     "base_uri": "https://localhost:8080/"
    },
    "id": "JafhgI3_8AAE",
    "outputId": "8a7736de-a604-4b72-d792-415824249b64"
   },
   "outputs": [],
   "source": [
    "# calendar[:, 3, 6]\n",
    "calendar[:, -1, -1]\n",
    "calendar[:, -1, -1] = 'E'\n",
    "calendar"
   ]
  },
  {
   "cell_type": "code",
   "execution_count": null,
   "metadata": {
    "colab": {
     "base_uri": "https://localhost:8080/"
    },
    "id": "wkIQn21h8Tol",
    "outputId": "5b60b85c-f117-4c0a-ade3-98e604817085"
   },
   "outputs": [],
   "source": [
    "mes = [1, 4, 4, 5, 9, 10, 11, 11, 12]\n",
    "dia = [1, 15, 21, 1, 7, 12, 2, 15, 25]\n",
    "# dia//7\n",
    "# np.array(dia)//7\n",
    "# semana = np.array(dia)//7\n",
    "semana = (np.array(dia)-1)//7\n",
    "# (np.array(dia))%7 \n",
    "dia_semana = (np.array(dia)-1)%7\n",
    "# calendar[mes, semana, dia]\n",
    "mes = np.array(mes) - 1\n",
    "calendar[mes, semana, dia_semana] = 'F'\n",
    "calendar"
   ]
  }
 ],
 "metadata": {
  "colab": {
   "name": "exercicios_numpy.ipynb",
   "provenance": []
  },
  "kernelspec": {
   "display_name": "Python 3 (ipykernel)",
   "language": "python",
   "name": "python3"
  },
  "language_info": {
   "codemirror_mode": {
    "name": "ipython",
    "version": 3
   },
   "file_extension": ".py",
   "mimetype": "text/x-python",
   "name": "python",
   "nbconvert_exporter": "python",
   "pygments_lexer": "ipython3",
   "version": "3.9.12"
  }
 },
 "nbformat": 4,
 "nbformat_minor": 1
}
