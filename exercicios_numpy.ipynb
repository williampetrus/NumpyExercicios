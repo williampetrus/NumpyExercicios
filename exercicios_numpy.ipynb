{
 "cells": [
  {
   "cell_type": "markdown",
   "metadata": {
    "id": "QDc0r17Zp36j"
   },
   "source": [
    "Numpy\n",
    "1. Utilizando a biblioteca numpy siga as instruções abaixo:\n",
    "   1. Crie um array 6x6 preenchido com zero\n",
    "   1. Preencha o centro desse array com um array 4x4 preenchido com uns\n",
    "   1. Preencha o centro desse array com um array 2x2 preenchido com dois\n",
    "   1. Gere um segundo array 6x6 com números inteiros aleatórios entre 0 e 2.\n",
    "   1. Subtraia o primeiro array pelo segundo"
   ]
  },
  {
   "cell_type": "markdown",
   "metadata": {
    "id": "jQewSID-wGjA"
   },
   "source": [
    "1."
   ]
  },
  {
   "cell_type": "markdown",
   "metadata": {
    "id": "X2BE_IHGrZSW"
   },
   "source": [
    "1.a"
   ]
  },
  {
   "cell_type": "code",
   "execution_count": 11,
   "metadata": {
    "id": "92J8fjfUqMvs"
   },
   "outputs": [
    {
     "name": "stdout",
     "output_type": "stream",
     "text": [
      "Requirement already satisfied: numpy in c:\\programdata\\anaconda3\\lib\\site-packages (1.21.5)\n"
     ]
    }
   ],
   "source": [
    "!pip install numpy"
   ]
  },
  {
   "cell_type": "code",
   "execution_count": 12,
   "metadata": {
    "colab": {
     "base_uri": "https://localhost:8080/"
    },
    "id": "hT0lZhqWpynk",
    "outputId": "f825a956-1b27-4e66-d2b0-990fc1940c2d"
   },
   "outputs": [],
   "source": [
    "import numpy as np\n",
    "array1 = np.zeros((6,6))"
   ]
  },
  {
   "cell_type": "code",
   "execution_count": 13,
   "metadata": {
    "colab": {
     "base_uri": "https://localhost:8080/"
    },
    "id": "GqdfVfmquWMi",
    "outputId": "0ede8eed-789c-4bca-881c-07e4993b04ad"
   },
   "outputs": [
    {
     "data": {
      "text/plain": [
       "2"
      ]
     },
     "execution_count": 13,
     "metadata": {},
     "output_type": "execute_result"
    }
   ],
   "source": [
    "array1.ndim"
   ]
  },
  {
   "cell_type": "code",
   "execution_count": 14,
   "metadata": {
    "colab": {
     "base_uri": "https://localhost:8080/"
    },
    "id": "71OPJleNuWdB",
    "outputId": "e09c73c2-876e-451e-9834-270a12fe9a69"
   },
   "outputs": [
    {
     "data": {
      "text/plain": [
       "36"
      ]
     },
     "execution_count": 14,
     "metadata": {},
     "output_type": "execute_result"
    }
   ],
   "source": [
    "array1.size"
   ]
  },
  {
   "cell_type": "code",
   "execution_count": 15,
   "metadata": {
    "colab": {
     "base_uri": "https://localhost:8080/"
    },
    "id": "bmp3_DXBqGy0",
    "outputId": "5444e320-9ae0-4afd-d387-d0260459ab01"
   },
   "outputs": [
    {
     "data": {
      "text/plain": [
       "(6, 6)"
      ]
     },
     "execution_count": 15,
     "metadata": {},
     "output_type": "execute_result"
    }
   ],
   "source": [
    "array1.shape"
   ]
  },
  {
   "cell_type": "code",
   "execution_count": 16,
   "metadata": {
    "colab": {
     "base_uri": "https://localhost:8080/"
    },
    "id": "QorcAtpQqZwA",
    "outputId": "7c6f1247-eb6a-4117-8f83-db4a1607db08"
   },
   "outputs": [
    {
     "data": {
      "text/plain": [
       "dtype('float64')"
      ]
     },
     "execution_count": 16,
     "metadata": {},
     "output_type": "execute_result"
    }
   ],
   "source": [
    "array1.dtype"
   ]
  },
  {
   "cell_type": "markdown",
   "metadata": {
    "id": "ix6AOKmXrXtm"
   },
   "source": [
    "1.b"
   ]
  },
  {
   "cell_type": "code",
   "execution_count": 33,
   "metadata": {
    "colab": {
     "base_uri": "https://localhost:8080/"
    },
    "id": "jLGhT6JRqdPm",
    "outputId": "b9d9b2d2-d14c-4fd9-f9bd-ef1ad15fd870"
   },
   "outputs": [
    {
     "data": {
      "text/plain": [
       "array([[0., 0., 0., 0., 0., 0.],\n",
       "       [0., 1., 1., 1., 1., 0.],\n",
       "       [0., 1., 1., 1., 1., 0.],\n",
       "       [0., 1., 1., 1., 1., 0.],\n",
       "       [0., 1., 1., 1., 1., 0.],\n",
       "       [0., 0., 0., 0., 0., 0.]])"
      ]
     },
     "execution_count": 33,
     "metadata": {},
     "output_type": "execute_result"
    }
   ],
   "source": [
    "# array[1]\n",
    "# array1[1, 1]\n",
    "# array1[1:4]\n",
    "# array1[1:5]\n",
    "# array1[1:-1]\n",
    "# array1[1:-1, 1:-1]\n",
    "# help(np.ones)\n",
    "array1[1:5, 1:5] = np.ones(shape=(4,4))\n",
    "array1\n",
    "# não dá pra fazer assim com listas sem utilizar for"
   ]
  },
  {
   "cell_type": "markdown",
   "metadata": {
    "id": "r1MDjXB0tyl0"
   },
   "source": [
    "1.c"
   ]
  },
  {
   "cell_type": "code",
   "execution_count": 18,
   "metadata": {
    "colab": {
     "base_uri": "https://localhost:8080/"
    },
    "id": "ZRS0zKVKqolQ",
    "outputId": "f37bff97-b236-4467-fdb1-4facb69eb476"
   },
   "outputs": [
    {
     "data": {
      "text/plain": [
       "array([[0., 0., 0., 0., 0., 0.],\n",
       "       [0., 1., 1., 1., 1., 0.],\n",
       "       [0., 1., 2., 2., 1., 0.],\n",
       "       [0., 1., 2., 2., 1., 0.],\n",
       "       [0., 1., 1., 1., 1., 0.],\n",
       "       [0., 0., 0., 0., 0., 0.]])"
      ]
     },
     "execution_count": 18,
     "metadata": {},
     "output_type": "execute_result"
    }
   ],
   "source": [
    "# np.array([\n",
    "#   [2,2],\n",
    "#   [2,2]\n",
    "# ])\n",
    "# np.zeros(shape=(2,2)) + 2\n",
    "# np.ones(shape=(2,2)) * 2\n",
    "# Não dá pra fazer assim com listas\n",
    "# help(np.full)\n",
    "array1[2:-2, 2:-2] = np.full(shape=(2,2), fill_value=2)\n",
    "array1"
   ]
  },
  {
   "cell_type": "markdown",
   "metadata": {
    "id": "T9ZvCfVat14D"
   },
   "source": [
    "1.d"
   ]
  },
  {
   "cell_type": "code",
   "execution_count": 19,
   "metadata": {
    "colab": {
     "base_uri": "https://localhost:8080/"
    },
    "id": "8k6PIYaxsF0m",
    "outputId": "af6ab656-5e98-48f0-99b4-4f5d5faf7e25"
   },
   "outputs": [
    {
     "data": {
      "text/plain": [
       "array([[0, 1, 0, 1, 1, 2],\n",
       "       [0, 2, 0, 0, 0, 2],\n",
       "       [1, 2, 2, 0, 1, 1],\n",
       "       [1, 1, 0, 1, 0, 0],\n",
       "       [1, 2, 0, 2, 0, 1],\n",
       "       [1, 2, 0, 1, 1, 1]])"
      ]
     },
     "execution_count": 19,
     "metadata": {},
     "output_type": "execute_result"
    }
   ],
   "source": [
    "# numpy random\n",
    "# https://numpy.org/doc/1.16/reference/routines.random.html\n",
    "# help(np.random.randint)\n",
    "# np.random.randint(low=0, high=3, size=(6,6))\n",
    "# numpy set seed\n",
    "# https://docs.scipy.org/doc/numpy-1.15.1/reference/generated/numpy.random.seed.html\n",
    "np.random.seed(0)\n",
    "array2 = np.random.randint(low=0, high=3, size=(6,6))\n",
    "array2"
   ]
  },
  {
   "cell_type": "markdown",
   "metadata": {
    "id": "INwKMziov_t6"
   },
   "source": [
    "1.e"
   ]
  },
  {
   "cell_type": "code",
   "execution_count": 20,
   "metadata": {
    "colab": {
     "base_uri": "https://localhost:8080/"
    },
    "id": "1_YJEwdQtY_9",
    "outputId": "859359ce-fdfb-4726-e6cb-4e2cad564920"
   },
   "outputs": [
    {
     "data": {
      "text/plain": [
       "array([[ 0., -1.,  0., -1., -1., -2.],\n",
       "       [ 0., -1.,  1.,  1.,  1., -2.],\n",
       "       [-1., -1.,  0.,  2.,  0., -1.],\n",
       "       [-1.,  0.,  2.,  1.,  1.,  0.],\n",
       "       [-1., -1.,  1., -1.,  1., -1.],\n",
       "       [-1., -2.,  0., -1., -1., -1.]])"
      ]
     },
     "execution_count": 20,
     "metadata": {},
     "output_type": "execute_result"
    }
   ],
   "source": [
    "array1-array2"
   ]
  },
  {
   "cell_type": "markdown",
   "metadata": {
    "id": "xnF6dzzfwQOy"
   },
   "source": [
    "\n",
    "2. Crie um array de duas dimensões, no formato 9x9, com números de 0 a 80 ordenados de modo crescente e selecione:\n",
    "   1. Os números ímpares\n",
    "   1. Os números pares\n",
    "   1. Os múltiplos de sete\n",
    "   1. Os múltiplos de 10\n",
    "   1. Os números 32,33,42,43"
   ]
  },
  {
   "cell_type": "markdown",
   "metadata": {
    "id": "AvG-i579wE8f"
   },
   "source": [
    "2"
   ]
  },
  {
   "cell_type": "markdown",
   "metadata": {
    "id": "gyfCoOe3xzDk"
   },
   "source": [
    "2.a e b"
   ]
  },
  {
   "cell_type": "code",
   "execution_count": 21,
   "metadata": {
    "colab": {
     "base_uri": "https://localhost:8080/"
    },
    "id": "Moq7jTguwBkT",
    "outputId": "48f5ea5d-cacd-42e0-dbac-2fffebc39fcb"
   },
   "outputs": [
    {
     "data": {
      "text/plain": [
       "array([[ 0,  1,  2,  3,  4,  5,  6,  7,  8],\n",
       "       [ 9, 10, 11, 12, 13, 14, 15, 16, 17],\n",
       "       [18, 19, 20, 21, 22, 23, 24, 25, 26],\n",
       "       [27, 28, 29, 30, 31, 32, 33, 34, 35],\n",
       "       [36, 37, 38, 39, 40, 41, 42, 43, 44],\n",
       "       [45, 46, 47, 48, 49, 50, 51, 52, 53],\n",
       "       [54, 55, 56, 57, 58, 59, 60, 61, 62],\n",
       "       [63, 64, 65, 66, 67, 68, 69, 70, 71],\n",
       "       [72, 73, 74, 75, 76, 77, 78, 79, 80]])"
      ]
     },
     "execution_count": 21,
     "metadata": {},
     "output_type": "execute_result"
    }
   ],
   "source": [
    "# help(np.arange)\n",
    "# np.arange(start=0, stop=81, step=1)\n",
    "array = np.arange(start=0, stop=81, step=1).reshape(9,9)\n",
    "# np.arange(start=0, stop=81, step=1).reshape(9,-1)\n",
    "array"
   ]
  },
  {
   "cell_type": "code",
   "execution_count": 22,
   "metadata": {
    "colab": {
     "base_uri": "https://localhost:8080/"
    },
    "id": "L9WoPQ27xElU",
    "outputId": "0c58b622-6da4-43c8-d889-f3ca291f66fd"
   },
   "outputs": [
    {
     "data": {
      "text/plain": [
       "array([ 1,  3,  5,  7,  9, 11, 13, 15, 17, 19, 21, 23, 25, 27, 29, 31, 33,\n",
       "       35, 37, 39, 41, 43, 45, 47, 49, 51, 53, 55, 57, 59, 61, 63, 65, 67,\n",
       "       69, 71, 73, 75, 77, 79])"
      ]
     },
     "execution_count": 22,
     "metadata": {},
     "output_type": "execute_result"
    }
   ],
   "source": [
    "# array % 2\n",
    "# array % 2 == 1\n",
    "mask_impar = array % 2 == 1 # Mask\n",
    "# mask_impar\n",
    "array[mask_impar]"
   ]
  },
  {
   "cell_type": "markdown",
   "metadata": {
    "id": "_EqYfn6CyC-Z"
   },
   "source": [
    "2.b"
   ]
  },
  {
   "cell_type": "code",
   "execution_count": 23,
   "metadata": {
    "colab": {
     "base_uri": "https://localhost:8080/"
    },
    "id": "NxqMif0VyBTV",
    "outputId": "fc185296-ce91-4bd5-f12d-7fbb4af9092b"
   },
   "outputs": [
    {
     "data": {
      "text/plain": [
       "array([ 0,  2,  4,  6,  8, 10, 12, 14, 16, 18, 20, 22, 24, 26, 28, 30, 32,\n",
       "       34, 36, 38, 40, 42, 44, 46, 48, 50, 52, 54, 56, 58, 60, 62, 64, 66,\n",
       "       68, 70, 72, 74, 76, 78, 80])"
      ]
     },
     "execution_count": 23,
     "metadata": {},
     "output_type": "execute_result"
    }
   ],
   "source": [
    "# array[not mask_impar]\n",
    "# array[~mask_impar]\n",
    "# array % 2 == 0\n",
    "mask_par = array % 2 == 0 # Mask\n",
    "array[mask_par]"
   ]
  },
  {
   "cell_type": "markdown",
   "metadata": {
    "id": "giqejT30zLmf"
   },
   "source": [
    "2.c"
   ]
  },
  {
   "cell_type": "code",
   "execution_count": 24,
   "metadata": {
    "colab": {
     "base_uri": "https://localhost:8080/"
    },
    "id": "jT0fDnQAzK8x",
    "outputId": "5f384684-0354-40dd-81ac-b89e4a345226"
   },
   "outputs": [
    {
     "data": {
      "text/plain": [
       "array([ 0,  7, 14, 21, 28, 35, 42, 49, 56, 63, 70, 77])"
      ]
     },
     "execution_count": 24,
     "metadata": {},
     "output_type": "execute_result"
    }
   ],
   "source": [
    "array\n",
    "# array % 7\n",
    "# array % 7 == 0\n",
    "array[array % 7 == 0]\n",
    "# multi_sete = [0, 7, 14, 21, 28, 35, 42, 49, 56, 63, 70, 77]\n",
    "# numpy check array values in list\n",
    "# https://numpy.org/doc/stable/reference/generated/numpy.isin.html\n",
    "# mask_sete = np.isin(array, multi_sete)\n",
    "# array[mask_sete]\n",
    "# list(range(0, 80, 7))\n",
    "# array[np.isin(array, range(0, 80, 7))]"
   ]
  },
  {
   "cell_type": "markdown",
   "metadata": {
    "id": "s0LGRFE-06uw"
   },
   "source": [
    "2.d"
   ]
  },
  {
   "cell_type": "code",
   "execution_count": 25,
   "metadata": {
    "colab": {
     "base_uri": "https://localhost:8080/"
    },
    "id": "Wx86uMmC0_Mu",
    "outputId": "e8be0884-af13-42ad-ee6b-de53ef2d40e4"
   },
   "outputs": [],
   "source": [
    "# numpy get matrix diagonal\n",
    "# https://numpy.org/doc/stable/reference/generated/numpy.diagonal.html\n",
    "# array.diagonal()\n",
    "# np.diag(array)\n",
    "# array[array %10 == 0]\n",
    "# array.shape\n",
    "# for i in range(array.shape[0]):\n",
    "#   print(array[i,i])\n",
    "# array.ravel()[::10]"
   ]
  },
  {
   "cell_type": "markdown",
   "metadata": {
    "id": "xO6QciGA2rJ8"
   },
   "source": [
    "2.e"
   ]
  },
  {
   "cell_type": "code",
   "execution_count": 26,
   "metadata": {
    "colab": {
     "base_uri": "https://localhost:8080/"
    },
    "id": "Zf3fePHF3cpV",
    "outputId": "26b4f509-1896-4f7b-f190-fe3fd6e64121"
   },
   "outputs": [
    {
     "data": {
      "text/plain": [
       "array([[ 0,  1,  2,  3,  4,  5,  6,  7,  8],\n",
       "       [ 9, 10, 11, 12, 13, 14, 15, 16, 17],\n",
       "       [18, 19, 20, 21, 22, 23, 24, 25, 26],\n",
       "       [27, 28, 29, 30, 31, 32, 33, 34, 35],\n",
       "       [36, 37, 38, 39, 40, 41, 42, 43, 44],\n",
       "       [45, 46, 47, 48, 49, 50, 51, 52, 53],\n",
       "       [54, 55, 56, 57, 58, 59, 60, 61, 62],\n",
       "       [63, 64, 65, 66, 67, 68, 69, 70, 71],\n",
       "       [72, 73, 74, 75, 76, 77, 78, 79, 80]])"
      ]
     },
     "execution_count": 26,
     "metadata": {},
     "output_type": "execute_result"
    }
   ],
   "source": [
    "array"
   ]
  },
  {
   "cell_type": "code",
   "execution_count": 27,
   "metadata": {
    "colab": {
     "base_uri": "https://localhost:8080/"
    },
    "id": "ZbxHky5o2sNS",
    "outputId": "17f60d24-f81e-449a-e07f-86aeeb390533"
   },
   "outputs": [
    {
     "data": {
      "text/plain": [
       "array([32, 33, 42, 43])"
      ]
     },
     "execution_count": 27,
     "metadata": {},
     "output_type": "execute_result"
    }
   ],
   "source": [
    "# array.ravel()[[32,33,42,43]]\n",
    "# array[np.isin(array, [32,33,42,43])]\n",
    "array[[3,3,4,4],[5,6,6,7]]"
   ]
  },
  {
   "cell_type": "markdown",
   "metadata": {
    "id": "7IbwVb7mwTPq"
   },
   "source": [
    "\n",
    "3. Crie um array com três dimensões, onde a primeira dimensão são os dias da semana (seg a dom), a segunda dimensão são as semanas do mês (considere apenas 4 para todos os meses), e a terceira são os meses do ano (Jan a dezembro).\n",
    "   1. Marque os finais de semana com a letra W\n",
    "   1. Marque o começo do mês com a letra S\n",
    "   1. Marque o final do mês com a letra E\n",
    "   1. Marque os demais dias com a letra D\n",
    "   1. Marque os feriados nacionais com a letra F\n",
    "      - 01/01 - Ano novo\n",
    "      - 15/04 - Paixão de Cristo\n",
    "      - 21/04 - Tiradentes\n",
    "      - 01/05 - Dia do Trabalho\n",
    "      - 07/09 - Independência do Brasil\n",
    "      - 12/10 - Nossa Senhora Aparecida\n",
    "      - 02/11 - Finados\n",
    "      - 15/11 - Proclamação da República\n",
    "      - 25/12 - Natal"
   ]
  },
  {
   "cell_type": "code",
   "execution_count": 28,
   "metadata": {
    "colab": {
     "base_uri": "https://localhost:8080/"
    },
    "id": "O2cUNlvgwUCj",
    "outputId": "60799329-c700-48e4-930b-56934462beaf"
   },
   "outputs": [
    {
     "data": {
      "text/plain": [
       "array([[[ 1,  2,  3,  4,  5,  6,  7],\n",
       "        [ 8,  9, 10, 11, 12, 13, 14],\n",
       "        [15, 16, 17, 18, 19, 20, 21],\n",
       "        [22, 23, 24, 25, 26, 27, 28]],\n",
       "\n",
       "       [[ 1,  2,  3,  4,  5,  6,  7],\n",
       "        [ 8,  9, 10, 11, 12, 13, 14],\n",
       "        [15, 16, 17, 18, 19, 20, 21],\n",
       "        [22, 23, 24, 25, 26, 27, 28]],\n",
       "\n",
       "       [[ 1,  2,  3,  4,  5,  6,  7],\n",
       "        [ 8,  9, 10, 11, 12, 13, 14],\n",
       "        [15, 16, 17, 18, 19, 20, 21],\n",
       "        [22, 23, 24, 25, 26, 27, 28]],\n",
       "\n",
       "       [[ 1,  2,  3,  4,  5,  6,  7],\n",
       "        [ 8,  9, 10, 11, 12, 13, 14],\n",
       "        [15, 16, 17, 18, 19, 20, 21],\n",
       "        [22, 23, 24, 25, 26, 27, 28]],\n",
       "\n",
       "       [[ 1,  2,  3,  4,  5,  6,  7],\n",
       "        [ 8,  9, 10, 11, 12, 13, 14],\n",
       "        [15, 16, 17, 18, 19, 20, 21],\n",
       "        [22, 23, 24, 25, 26, 27, 28]],\n",
       "\n",
       "       [[ 1,  2,  3,  4,  5,  6,  7],\n",
       "        [ 8,  9, 10, 11, 12, 13, 14],\n",
       "        [15, 16, 17, 18, 19, 20, 21],\n",
       "        [22, 23, 24, 25, 26, 27, 28]],\n",
       "\n",
       "       [[ 1,  2,  3,  4,  5,  6,  7],\n",
       "        [ 8,  9, 10, 11, 12, 13, 14],\n",
       "        [15, 16, 17, 18, 19, 20, 21],\n",
       "        [22, 23, 24, 25, 26, 27, 28]],\n",
       "\n",
       "       [[ 1,  2,  3,  4,  5,  6,  7],\n",
       "        [ 8,  9, 10, 11, 12, 13, 14],\n",
       "        [15, 16, 17, 18, 19, 20, 21],\n",
       "        [22, 23, 24, 25, 26, 27, 28]],\n",
       "\n",
       "       [[ 1,  2,  3,  4,  5,  6,  7],\n",
       "        [ 8,  9, 10, 11, 12, 13, 14],\n",
       "        [15, 16, 17, 18, 19, 20, 21],\n",
       "        [22, 23, 24, 25, 26, 27, 28]],\n",
       "\n",
       "       [[ 1,  2,  3,  4,  5,  6,  7],\n",
       "        [ 8,  9, 10, 11, 12, 13, 14],\n",
       "        [15, 16, 17, 18, 19, 20, 21],\n",
       "        [22, 23, 24, 25, 26, 27, 28]],\n",
       "\n",
       "       [[ 1,  2,  3,  4,  5,  6,  7],\n",
       "        [ 8,  9, 10, 11, 12, 13, 14],\n",
       "        [15, 16, 17, 18, 19, 20, 21],\n",
       "        [22, 23, 24, 25, 26, 27, 28]],\n",
       "\n",
       "       [[ 1,  2,  3,  4,  5,  6,  7],\n",
       "        [ 8,  9, 10, 11, 12, 13, 14],\n",
       "        [15, 16, 17, 18, 19, 20, 21],\n",
       "        [22, 23, 24, 25, 26, 27, 28]]])"
      ]
     },
     "execution_count": 28,
     "metadata": {},
     "output_type": "execute_result"
    }
   ],
   "source": [
    "# numpy repeat array\n",
    "# https://numpy.org/doc/stable/reference/generated/numpy.tile.html\n",
    "month = np.arange(1,29).reshape(4,7)\n",
    "# month\n",
    "# np.tile(month, (12,1,1)).shape\n",
    "calendar = np.tile(month, (12,1,1))\n",
    "calendar"
   ]
  },
  {
   "cell_type": "markdown",
   "metadata": {
    "id": "9-WEcxcG7bfg"
   },
   "source": [
    "3.a"
   ]
  },
  {
   "cell_type": "code",
   "execution_count": 29,
   "metadata": {
    "colab": {
     "base_uri": "https://localhost:8080/"
    },
    "id": "5_PoqXxE4H8v",
    "outputId": "8fa60c8c-dcdd-46b4-e304-f310f403d2a9"
   },
   "outputs": [
    {
     "data": {
      "text/plain": [
       "array([[['1', '2', '3', '4', '5', 'W', 'W'],\n",
       "        ['8', '9', '10', '11', '12', 'W', 'W'],\n",
       "        ['15', '16', '17', '18', '19', 'W', 'W'],\n",
       "        ['22', '23', '24', '25', '26', 'W', 'W']],\n",
       "\n",
       "       [['1', '2', '3', '4', '5', 'W', 'W'],\n",
       "        ['8', '9', '10', '11', '12', 'W', 'W'],\n",
       "        ['15', '16', '17', '18', '19', 'W', 'W'],\n",
       "        ['22', '23', '24', '25', '26', 'W', 'W']],\n",
       "\n",
       "       [['1', '2', '3', '4', '5', 'W', 'W'],\n",
       "        ['8', '9', '10', '11', '12', 'W', 'W'],\n",
       "        ['15', '16', '17', '18', '19', 'W', 'W'],\n",
       "        ['22', '23', '24', '25', '26', 'W', 'W']],\n",
       "\n",
       "       [['1', '2', '3', '4', '5', 'W', 'W'],\n",
       "        ['8', '9', '10', '11', '12', 'W', 'W'],\n",
       "        ['15', '16', '17', '18', '19', 'W', 'W'],\n",
       "        ['22', '23', '24', '25', '26', 'W', 'W']],\n",
       "\n",
       "       [['1', '2', '3', '4', '5', 'W', 'W'],\n",
       "        ['8', '9', '10', '11', '12', 'W', 'W'],\n",
       "        ['15', '16', '17', '18', '19', 'W', 'W'],\n",
       "        ['22', '23', '24', '25', '26', 'W', 'W']],\n",
       "\n",
       "       [['1', '2', '3', '4', '5', 'W', 'W'],\n",
       "        ['8', '9', '10', '11', '12', 'W', 'W'],\n",
       "        ['15', '16', '17', '18', '19', 'W', 'W'],\n",
       "        ['22', '23', '24', '25', '26', 'W', 'W']],\n",
       "\n",
       "       [['1', '2', '3', '4', '5', 'W', 'W'],\n",
       "        ['8', '9', '10', '11', '12', 'W', 'W'],\n",
       "        ['15', '16', '17', '18', '19', 'W', 'W'],\n",
       "        ['22', '23', '24', '25', '26', 'W', 'W']],\n",
       "\n",
       "       [['1', '2', '3', '4', '5', 'W', 'W'],\n",
       "        ['8', '9', '10', '11', '12', 'W', 'W'],\n",
       "        ['15', '16', '17', '18', '19', 'W', 'W'],\n",
       "        ['22', '23', '24', '25', '26', 'W', 'W']],\n",
       "\n",
       "       [['1', '2', '3', '4', '5', 'W', 'W'],\n",
       "        ['8', '9', '10', '11', '12', 'W', 'W'],\n",
       "        ['15', '16', '17', '18', '19', 'W', 'W'],\n",
       "        ['22', '23', '24', '25', '26', 'W', 'W']],\n",
       "\n",
       "       [['1', '2', '3', '4', '5', 'W', 'W'],\n",
       "        ['8', '9', '10', '11', '12', 'W', 'W'],\n",
       "        ['15', '16', '17', '18', '19', 'W', 'W'],\n",
       "        ['22', '23', '24', '25', '26', 'W', 'W']],\n",
       "\n",
       "       [['1', '2', '3', '4', '5', 'W', 'W'],\n",
       "        ['8', '9', '10', '11', '12', 'W', 'W'],\n",
       "        ['15', '16', '17', '18', '19', 'W', 'W'],\n",
       "        ['22', '23', '24', '25', '26', 'W', 'W']],\n",
       "\n",
       "       [['1', '2', '3', '4', '5', 'W', 'W'],\n",
       "        ['8', '9', '10', '11', '12', 'W', 'W'],\n",
       "        ['15', '16', '17', '18', '19', 'W', 'W'],\n",
       "        ['22', '23', '24', '25', '26', 'W', 'W']]], dtype='<U11')"
      ]
     },
     "execution_count": 29,
     "metadata": {},
     "output_type": "execute_result"
    }
   ],
   "source": [
    "# calendar[:,:, 5:]\n",
    "# calendar[:,:, 5:] = 'W'\n",
    "calendar = calendar.astype(str)\n",
    "calendar[:,:, 5:] = 'W'\n",
    "calendar\n",
    "# Vai ter que utilizar muito for pra fazer isso em lista"
   ]
  },
  {
   "cell_type": "markdown",
   "metadata": {
    "id": "s07hIS6g77mE"
   },
   "source": [
    "3.b"
   ]
  },
  {
   "cell_type": "code",
   "execution_count": 30,
   "metadata": {
    "colab": {
     "base_uri": "https://localhost:8080/"
    },
    "id": "jIZ5jlv57h0k",
    "outputId": "7883c4e8-c7f3-4de8-8ede-7efdb1ea5382"
   },
   "outputs": [
    {
     "data": {
      "text/plain": [
       "array([[['S', '2', '3', '4', '5', 'W', 'W'],\n",
       "        ['8', '9', '10', '11', '12', 'W', 'W'],\n",
       "        ['15', '16', '17', '18', '19', 'W', 'W'],\n",
       "        ['22', '23', '24', '25', '26', 'W', 'W']],\n",
       "\n",
       "       [['S', '2', '3', '4', '5', 'W', 'W'],\n",
       "        ['8', '9', '10', '11', '12', 'W', 'W'],\n",
       "        ['15', '16', '17', '18', '19', 'W', 'W'],\n",
       "        ['22', '23', '24', '25', '26', 'W', 'W']],\n",
       "\n",
       "       [['S', '2', '3', '4', '5', 'W', 'W'],\n",
       "        ['8', '9', '10', '11', '12', 'W', 'W'],\n",
       "        ['15', '16', '17', '18', '19', 'W', 'W'],\n",
       "        ['22', '23', '24', '25', '26', 'W', 'W']],\n",
       "\n",
       "       [['S', '2', '3', '4', '5', 'W', 'W'],\n",
       "        ['8', '9', '10', '11', '12', 'W', 'W'],\n",
       "        ['15', '16', '17', '18', '19', 'W', 'W'],\n",
       "        ['22', '23', '24', '25', '26', 'W', 'W']],\n",
       "\n",
       "       [['S', '2', '3', '4', '5', 'W', 'W'],\n",
       "        ['8', '9', '10', '11', '12', 'W', 'W'],\n",
       "        ['15', '16', '17', '18', '19', 'W', 'W'],\n",
       "        ['22', '23', '24', '25', '26', 'W', 'W']],\n",
       "\n",
       "       [['S', '2', '3', '4', '5', 'W', 'W'],\n",
       "        ['8', '9', '10', '11', '12', 'W', 'W'],\n",
       "        ['15', '16', '17', '18', '19', 'W', 'W'],\n",
       "        ['22', '23', '24', '25', '26', 'W', 'W']],\n",
       "\n",
       "       [['S', '2', '3', '4', '5', 'W', 'W'],\n",
       "        ['8', '9', '10', '11', '12', 'W', 'W'],\n",
       "        ['15', '16', '17', '18', '19', 'W', 'W'],\n",
       "        ['22', '23', '24', '25', '26', 'W', 'W']],\n",
       "\n",
       "       [['S', '2', '3', '4', '5', 'W', 'W'],\n",
       "        ['8', '9', '10', '11', '12', 'W', 'W'],\n",
       "        ['15', '16', '17', '18', '19', 'W', 'W'],\n",
       "        ['22', '23', '24', '25', '26', 'W', 'W']],\n",
       "\n",
       "       [['S', '2', '3', '4', '5', 'W', 'W'],\n",
       "        ['8', '9', '10', '11', '12', 'W', 'W'],\n",
       "        ['15', '16', '17', '18', '19', 'W', 'W'],\n",
       "        ['22', '23', '24', '25', '26', 'W', 'W']],\n",
       "\n",
       "       [['S', '2', '3', '4', '5', 'W', 'W'],\n",
       "        ['8', '9', '10', '11', '12', 'W', 'W'],\n",
       "        ['15', '16', '17', '18', '19', 'W', 'W'],\n",
       "        ['22', '23', '24', '25', '26', 'W', 'W']],\n",
       "\n",
       "       [['S', '2', '3', '4', '5', 'W', 'W'],\n",
       "        ['8', '9', '10', '11', '12', 'W', 'W'],\n",
       "        ['15', '16', '17', '18', '19', 'W', 'W'],\n",
       "        ['22', '23', '24', '25', '26', 'W', 'W']],\n",
       "\n",
       "       [['S', '2', '3', '4', '5', 'W', 'W'],\n",
       "        ['8', '9', '10', '11', '12', 'W', 'W'],\n",
       "        ['15', '16', '17', '18', '19', 'W', 'W'],\n",
       "        ['22', '23', '24', '25', '26', 'W', 'W']]], dtype='<U11')"
      ]
     },
     "execution_count": 30,
     "metadata": {},
     "output_type": "execute_result"
    }
   ],
   "source": [
    "calendar[:, 0, 0]\n",
    "calendar[:, 0, 0] = 'S'\n",
    "calendar"
   ]
  },
  {
   "cell_type": "markdown",
   "metadata": {
    "id": "62AdhKjY8Lip"
   },
   "source": [
    "3.c"
   ]
  },
  {
   "cell_type": "code",
   "execution_count": 31,
   "metadata": {
    "colab": {
     "base_uri": "https://localhost:8080/"
    },
    "id": "JafhgI3_8AAE",
    "outputId": "8a7736de-a604-4b72-d792-415824249b64"
   },
   "outputs": [
    {
     "data": {
      "text/plain": [
       "array([[['S', '2', '3', '4', '5', 'W', 'W'],\n",
       "        ['8', '9', '10', '11', '12', 'W', 'W'],\n",
       "        ['15', '16', '17', '18', '19', 'W', 'W'],\n",
       "        ['22', '23', '24', '25', '26', 'W', 'E']],\n",
       "\n",
       "       [['S', '2', '3', '4', '5', 'W', 'W'],\n",
       "        ['8', '9', '10', '11', '12', 'W', 'W'],\n",
       "        ['15', '16', '17', '18', '19', 'W', 'W'],\n",
       "        ['22', '23', '24', '25', '26', 'W', 'E']],\n",
       "\n",
       "       [['S', '2', '3', '4', '5', 'W', 'W'],\n",
       "        ['8', '9', '10', '11', '12', 'W', 'W'],\n",
       "        ['15', '16', '17', '18', '19', 'W', 'W'],\n",
       "        ['22', '23', '24', '25', '26', 'W', 'E']],\n",
       "\n",
       "       [['S', '2', '3', '4', '5', 'W', 'W'],\n",
       "        ['8', '9', '10', '11', '12', 'W', 'W'],\n",
       "        ['15', '16', '17', '18', '19', 'W', 'W'],\n",
       "        ['22', '23', '24', '25', '26', 'W', 'E']],\n",
       "\n",
       "       [['S', '2', '3', '4', '5', 'W', 'W'],\n",
       "        ['8', '9', '10', '11', '12', 'W', 'W'],\n",
       "        ['15', '16', '17', '18', '19', 'W', 'W'],\n",
       "        ['22', '23', '24', '25', '26', 'W', 'E']],\n",
       "\n",
       "       [['S', '2', '3', '4', '5', 'W', 'W'],\n",
       "        ['8', '9', '10', '11', '12', 'W', 'W'],\n",
       "        ['15', '16', '17', '18', '19', 'W', 'W'],\n",
       "        ['22', '23', '24', '25', '26', 'W', 'E']],\n",
       "\n",
       "       [['S', '2', '3', '4', '5', 'W', 'W'],\n",
       "        ['8', '9', '10', '11', '12', 'W', 'W'],\n",
       "        ['15', '16', '17', '18', '19', 'W', 'W'],\n",
       "        ['22', '23', '24', '25', '26', 'W', 'E']],\n",
       "\n",
       "       [['S', '2', '3', '4', '5', 'W', 'W'],\n",
       "        ['8', '9', '10', '11', '12', 'W', 'W'],\n",
       "        ['15', '16', '17', '18', '19', 'W', 'W'],\n",
       "        ['22', '23', '24', '25', '26', 'W', 'E']],\n",
       "\n",
       "       [['S', '2', '3', '4', '5', 'W', 'W'],\n",
       "        ['8', '9', '10', '11', '12', 'W', 'W'],\n",
       "        ['15', '16', '17', '18', '19', 'W', 'W'],\n",
       "        ['22', '23', '24', '25', '26', 'W', 'E']],\n",
       "\n",
       "       [['S', '2', '3', '4', '5', 'W', 'W'],\n",
       "        ['8', '9', '10', '11', '12', 'W', 'W'],\n",
       "        ['15', '16', '17', '18', '19', 'W', 'W'],\n",
       "        ['22', '23', '24', '25', '26', 'W', 'E']],\n",
       "\n",
       "       [['S', '2', '3', '4', '5', 'W', 'W'],\n",
       "        ['8', '9', '10', '11', '12', 'W', 'W'],\n",
       "        ['15', '16', '17', '18', '19', 'W', 'W'],\n",
       "        ['22', '23', '24', '25', '26', 'W', 'E']],\n",
       "\n",
       "       [['S', '2', '3', '4', '5', 'W', 'W'],\n",
       "        ['8', '9', '10', '11', '12', 'W', 'W'],\n",
       "        ['15', '16', '17', '18', '19', 'W', 'W'],\n",
       "        ['22', '23', '24', '25', '26', 'W', 'E']]], dtype='<U11')"
      ]
     },
     "execution_count": 31,
     "metadata": {},
     "output_type": "execute_result"
    }
   ],
   "source": [
    "# calendar[:, 3, 6]\n",
    "calendar[:, -1, -1]\n",
    "calendar[:, -1, -1] = 'E'\n",
    "calendar"
   ]
  },
  {
   "cell_type": "code",
   "execution_count": 32,
   "metadata": {
    "colab": {
     "base_uri": "https://localhost:8080/"
    },
    "id": "wkIQn21h8Tol",
    "outputId": "5b60b85c-f117-4c0a-ade3-98e604817085"
   },
   "outputs": [
    {
     "data": {
      "text/plain": [
       "array([[['F', '2', '3', '4', '5', 'W', 'W'],\n",
       "        ['8', '9', '10', '11', '12', 'W', 'W'],\n",
       "        ['15', '16', '17', '18', '19', 'W', 'W'],\n",
       "        ['22', '23', '24', '25', '26', 'W', 'E']],\n",
       "\n",
       "       [['S', '2', '3', '4', '5', 'W', 'W'],\n",
       "        ['8', '9', '10', '11', '12', 'W', 'W'],\n",
       "        ['15', '16', '17', '18', '19', 'W', 'W'],\n",
       "        ['22', '23', '24', '25', '26', 'W', 'E']],\n",
       "\n",
       "       [['S', '2', '3', '4', '5', 'W', 'W'],\n",
       "        ['8', '9', '10', '11', '12', 'W', 'W'],\n",
       "        ['15', '16', '17', '18', '19', 'W', 'W'],\n",
       "        ['22', '23', '24', '25', '26', 'W', 'E']],\n",
       "\n",
       "       [['S', '2', '3', '4', '5', 'W', 'W'],\n",
       "        ['8', '9', '10', '11', '12', 'W', 'W'],\n",
       "        ['F', '16', '17', '18', '19', 'W', 'F'],\n",
       "        ['22', '23', '24', '25', '26', 'W', 'E']],\n",
       "\n",
       "       [['F', '2', '3', '4', '5', 'W', 'W'],\n",
       "        ['8', '9', '10', '11', '12', 'W', 'W'],\n",
       "        ['15', '16', '17', '18', '19', 'W', 'W'],\n",
       "        ['22', '23', '24', '25', '26', 'W', 'E']],\n",
       "\n",
       "       [['S', '2', '3', '4', '5', 'W', 'W'],\n",
       "        ['8', '9', '10', '11', '12', 'W', 'W'],\n",
       "        ['15', '16', '17', '18', '19', 'W', 'W'],\n",
       "        ['22', '23', '24', '25', '26', 'W', 'E']],\n",
       "\n",
       "       [['S', '2', '3', '4', '5', 'W', 'W'],\n",
       "        ['8', '9', '10', '11', '12', 'W', 'W'],\n",
       "        ['15', '16', '17', '18', '19', 'W', 'W'],\n",
       "        ['22', '23', '24', '25', '26', 'W', 'E']],\n",
       "\n",
       "       [['S', '2', '3', '4', '5', 'W', 'W'],\n",
       "        ['8', '9', '10', '11', '12', 'W', 'W'],\n",
       "        ['15', '16', '17', '18', '19', 'W', 'W'],\n",
       "        ['22', '23', '24', '25', '26', 'W', 'E']],\n",
       "\n",
       "       [['S', '2', '3', '4', '5', 'W', 'F'],\n",
       "        ['8', '9', '10', '11', '12', 'W', 'W'],\n",
       "        ['15', '16', '17', '18', '19', 'W', 'W'],\n",
       "        ['22', '23', '24', '25', '26', 'W', 'E']],\n",
       "\n",
       "       [['S', '2', '3', '4', '5', 'W', 'W'],\n",
       "        ['8', '9', '10', '11', 'F', 'W', 'W'],\n",
       "        ['15', '16', '17', '18', '19', 'W', 'W'],\n",
       "        ['22', '23', '24', '25', '26', 'W', 'E']],\n",
       "\n",
       "       [['S', 'F', '3', '4', '5', 'W', 'W'],\n",
       "        ['8', '9', '10', '11', '12', 'W', 'W'],\n",
       "        ['F', '16', '17', '18', '19', 'W', 'W'],\n",
       "        ['22', '23', '24', '25', '26', 'W', 'E']],\n",
       "\n",
       "       [['S', '2', '3', '4', '5', 'W', 'W'],\n",
       "        ['8', '9', '10', '11', '12', 'W', 'W'],\n",
       "        ['15', '16', '17', '18', '19', 'W', 'W'],\n",
       "        ['22', '23', '24', 'F', '26', 'W', 'E']]], dtype='<U11')"
      ]
     },
     "execution_count": 32,
     "metadata": {},
     "output_type": "execute_result"
    }
   ],
   "source": [
    "mes = [1, 4, 4, 5, 9, 10, 11, 11, 12]\n",
    "dia = [1, 15, 21, 1, 7, 12, 2, 15, 25]\n",
    "# dia//7\n",
    "# np.array(dia)//7\n",
    "# semana = np.array(dia)//7\n",
    "semana = (np.array(dia)-1)//7\n",
    "# (np.array(dia))%7 \n",
    "dia_semana = (np.array(dia)-1)%7\n",
    "# calendar[mes, semana, dia]\n",
    "mes = np.array(mes) - 1\n",
    "calendar[mes, semana, dia_semana] = 'F'\n",
    "calendar"
   ]
  }
 ],
 "metadata": {
  "colab": {
   "name": "exercicios_numpy.ipynb",
   "provenance": []
  },
  "kernelspec": {
   "display_name": "Python 3 (ipykernel)",
   "language": "python",
   "name": "python3"
  },
  "language_info": {
   "codemirror_mode": {
    "name": "ipython",
    "version": 3
   },
   "file_extension": ".py",
   "mimetype": "text/x-python",
   "name": "python",
   "nbconvert_exporter": "python",
   "pygments_lexer": "ipython3",
   "version": "3.9.12"
  }
 },
 "nbformat": 4,
 "nbformat_minor": 1
}
